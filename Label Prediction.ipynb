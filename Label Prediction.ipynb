{
 "cells": [
  {
   "cell_type": "code",
   "execution_count": 1,
   "id": "b6200f0b",
   "metadata": {},
   "outputs": [],
   "source": [
    "import numpy as np\n",
    "import pandas as pd\n",
    "import matplotlib.pyplot as plt\n",
    "from tqdm import tqdm\n",
    "import random\n",
    "import nltk\n",
    "from nltk.corpus import stopwords\n",
    "import string\n",
    "from sklearn import preprocessing\n",
    "from sklearn.decomposition import PCA\n",
    "from sklearn.model_selection import train_test_split"
   ]
  },
  {
   "cell_type": "code",
   "execution_count": 2,
   "id": "e2f73dd7",
   "metadata": {},
   "outputs": [],
   "source": [
    "file = open('cooking.stackexchange.txt', 'r')\n",
    "text = file.readlines()\n",
    "file.close()"
   ]
  },
  {
   "cell_type": "code",
   "execution_count": 3,
   "id": "af82203a",
   "metadata": {},
   "outputs": [
    {
     "data": {
      "text/plain": [
       "'__label__sauce __label__cheese How much does potato starch affect a cheese sauce recipe?\\n'"
      ]
     },
     "execution_count": 3,
     "metadata": {},
     "output_type": "execute_result"
    }
   ],
   "source": [
    "text[0]"
   ]
  },
  {
   "cell_type": "code",
   "execution_count": 4,
   "id": "ee7e8b5a",
   "metadata": {},
   "outputs": [
    {
     "data": {
      "text/plain": [
       "['',\n",
       " 'sauce ',\n",
       " 'cheese How much does potato starch affect a cheese sauce recipe?\\n']"
      ]
     },
     "execution_count": 4,
     "metadata": {},
     "output_type": "execute_result"
    }
   ],
   "source": [
    "text[0].split(\"__label__\")"
   ]
  },
  {
   "cell_type": "markdown",
   "id": "308934af",
   "metadata": {},
   "source": [
    "From above we can see that the first item in the list is empty and second item contains label and the third item contains sentence"
   ]
  },
  {
   "cell_type": "code",
   "execution_count": 5,
   "id": "33653a0e",
   "metadata": {},
   "outputs": [
    {
     "name": "stderr",
     "output_type": "stream",
     "text": [
      "100%|████████████████████████████████████████████████████████████████████████| 15404/15404 [00:00<00:00, 119950.95it/s]\n"
     ]
    }
   ],
   "source": [
    "sentences=[]                 #To store all the sentences\n",
    "all_label=set()              #To store all the unique labels\n",
    "labels=[]                    #To store the corresponding label of a sentence \n",
    "\n",
    "for i in tqdm(text):         #Separating labels and sentences of each line\n",
    "    p=i.strip().split(\"__label__\")\n",
    "    p.pop(0)\n",
    "    k=p.pop().split(\" \")     #k contains sentence\n",
    "    p.append(k.pop(0))       #p contains all the labels \n",
    "    \n",
    "    for i in range(len(p)):\n",
    "        p[i]=p[i].strip()\n",
    "        all_label.add(p[i])\n",
    "    sentences.append(''.join([i.lower()+\" \" for i in k]))\n",
    "    labels.append(p)\n",
    "all_label=list(all_label)"
   ]
  },
  {
   "cell_type": "markdown",
   "id": "05bea9b7",
   "metadata": {},
   "source": [
    "Preprocessing the sentences"
   ]
  },
  {
   "cell_type": "code",
   "execution_count": 6,
   "id": "da5ee81a",
   "metadata": {},
   "outputs": [],
   "source": [
    "def text_process(mess):\n",
    "    \n",
    "    nopunc = [char for char in mess if char not in string.punctuation]#removing punctuations\n",
    "    nopunc = ''.join(nopunc)\n",
    "    \n",
    "    #Removing stopwords and returning the list of words in a sentence without punctuation and stopwords\n",
    "    return [word.lower() for word in nopunc.split() if word.lower() not in stopwords.words('english')]"
   ]
  },
  {
   "cell_type": "code",
   "execution_count": 7,
   "id": "06921a38",
   "metadata": {},
   "outputs": [
    {
     "name": "stderr",
     "output_type": "stream",
     "text": [
      "100%|███████████████████████████████████████████████████████████████████████████| 15404/15404 [00:47<00:00, 326.47it/s]\n"
     ]
    }
   ],
   "source": [
    "for i in tqdm(range(len(sentences))):\n",
    "    sentences[i]=(text_process(sentences[i]))"
   ]
  },
  {
   "cell_type": "markdown",
   "id": "89a43ad6",
   "metadata": {},
   "source": [
    "Creating a list of unique words in all sentences"
   ]
  },
  {
   "cell_type": "code",
   "execution_count": 8,
   "id": "7f0f2c0d",
   "metadata": {},
   "outputs": [
    {
     "name": "stdout",
     "output_type": "stream",
     "text": [
      "9469\n"
     ]
    }
   ],
   "source": [
    "total_words=set()\n",
    "for sent in sentences:\n",
    "    for t in sent:\n",
    "        total_words.add(t)\n",
    "print(len(total_words))\n",
    "total_words=list(total_words)"
   ]
  },
  {
   "cell_type": "markdown",
   "id": "f0942f32",
   "metadata": {},
   "source": [
    "Creating BAG OF WORDS vectors for all sentences"
   ]
  },
  {
   "cell_type": "code",
   "execution_count": 9,
   "id": "29183bed",
   "metadata": {},
   "outputs": [
    {
     "name": "stderr",
     "output_type": "stream",
     "text": [
      "100%|███████████████████████████████████████████████████████████████████████████| 15404/15404 [00:37<00:00, 406.44it/s]\n"
     ]
    }
   ],
   "source": [
    "BOW=[]\n",
    "for sent in tqdm(sentences):\n",
    "    sentence_bow_vector=[]\n",
    "    for t in total_words:\n",
    "        if t in sent:\n",
    "            sentence_bow_vector.append(sent.count(t))\n",
    "        else:\n",
    "            sentence_bow_vector.append(0)\n",
    "    BOW.append(sentence_bow_vector)\n",
    "BOW=np.array(BOW)"
   ]
  },
  {
   "cell_type": "code",
   "execution_count": 10,
   "id": "abdc84c1",
   "metadata": {},
   "outputs": [
    {
     "data": {
      "text/plain": [
       "(15404, 9469)"
      ]
     },
     "execution_count": 10,
     "metadata": {},
     "output_type": "execute_result"
    }
   ],
   "source": [
    "BOW.shape"
   ]
  },
  {
   "cell_type": "markdown",
   "id": "b131254a",
   "metadata": {},
   "source": [
    "Converting the labels into onehot encoded vectors"
   ]
  },
  {
   "cell_type": "code",
   "execution_count": 11,
   "id": "19e3a44d",
   "metadata": {},
   "outputs": [
    {
     "name": "stderr",
     "output_type": "stream",
     "text": [
      "100%|████████████████████████████████████████████████████████████████████████| 15404/15404 [00:00<00:00, 260730.67it/s]\n"
     ]
    }
   ],
   "source": [
    "label_index={j:i for i,j in enumerate(all_label)}\n",
    "label_onehot=np.zeros([len(labels),736])\n",
    "for i in tqdm(range(len(labels))):\n",
    "    for k in labels[i]:\n",
    "        label_onehot[i][label_index[k]]=1"
   ]
  },
  {
   "cell_type": "code",
   "execution_count": 12,
   "id": "a6af2ba9",
   "metadata": {},
   "outputs": [
    {
     "data": {
      "text/plain": [
       "(15404, 736)"
      ]
     },
     "execution_count": 12,
     "metadata": {},
     "output_type": "execute_result"
    }
   ],
   "source": [
    "label_onehot.shape"
   ]
  },
  {
   "cell_type": "markdown",
   "id": "cb4d6ee4",
   "metadata": {},
   "source": [
    "Normalizing BOW vectors"
   ]
  },
  {
   "cell_type": "code",
   "execution_count": 13,
   "id": "2773fef0",
   "metadata": {},
   "outputs": [],
   "source": [
    "BOW=preprocessing.normalize(BOW)\n",
    "BOW=BOW.astype(np.float32)"
   ]
  },
  {
   "cell_type": "markdown",
   "id": "92b8cdb5",
   "metadata": {},
   "source": [
    "Applying principal component analysis for dimensionality reduction"
   ]
  },
  {
   "cell_type": "code",
   "execution_count": 14,
   "id": "005be2b0",
   "metadata": {},
   "outputs": [],
   "source": [
    "pca=PCA(n_components=500)\n",
    "pca.fit(BOW)\n",
    "BOW=pca.transform(BOW)"
   ]
  },
  {
   "cell_type": "code",
   "execution_count": 15,
   "id": "a4822b87",
   "metadata": {},
   "outputs": [
    {
     "data": {
      "text/plain": [
       "(15404, 500)"
      ]
     },
     "execution_count": 15,
     "metadata": {},
     "output_type": "execute_result"
    }
   ],
   "source": [
    "BOW.shape"
   ]
  },
  {
   "cell_type": "markdown",
   "id": "9b7069fe",
   "metadata": {},
   "source": [
    "Test train split"
   ]
  },
  {
   "cell_type": "code",
   "execution_count": 16,
   "id": "4575b51b",
   "metadata": {},
   "outputs": [],
   "source": [
    "sent_train,sent_test,label_train,label_test=train_test_split(BOW,label_onehot,test_size=0.2)"
   ]
  },
  {
   "cell_type": "markdown",
   "id": "eee65378",
   "metadata": {},
   "source": [
    "Linear Regression Model"
   ]
  },
  {
   "cell_type": "code",
   "execution_count": 17,
   "id": "13d62050",
   "metadata": {},
   "outputs": [
    {
     "data": {
      "text/plain": [
       "LinearRegression()"
      ]
     },
     "execution_count": 17,
     "metadata": {},
     "output_type": "execute_result"
    }
   ],
   "source": [
    "from sklearn.linear_model import LinearRegression\n",
    "model_lr = LinearRegression()\n",
    "model_lr.fit(sent_train,label_train)"
   ]
  },
  {
   "cell_type": "markdown",
   "id": "e035315f",
   "metadata": {},
   "source": [
    "Predictions given by the linear regression model"
   ]
  },
  {
   "cell_type": "code",
   "execution_count": 18,
   "id": "94441f92",
   "metadata": {},
   "outputs": [],
   "source": [
    "predictions=model_lr.predict(sent_test)"
   ]
  },
  {
   "cell_type": "markdown",
   "id": "37b319ae",
   "metadata": {},
   "source": [
    "Calculating accuracy of the model"
   ]
  },
  {
   "cell_type": "code",
   "execution_count": 19,
   "id": "fcfd7242",
   "metadata": {},
   "outputs": [
    {
     "name": "stdout",
     "output_type": "stream",
     "text": [
      "65.04381694255112\n"
     ]
    }
   ],
   "source": [
    "correct=0\n",
    "for i in range(len(predictions)):\n",
    "    k=np.argmax(predictions[i])\n",
    "    if label_test[i][k]==1:\n",
    "        correct+=1\n",
    "print(100*correct/len(predictions))"
   ]
  },
  {
   "cell_type": "code",
   "execution_count": null,
   "id": "8959d537",
   "metadata": {},
   "outputs": [],
   "source": []
  },
  {
   "cell_type": "markdown",
   "id": "b1ba6e82",
   "metadata": {},
   "source": [
    "Keras Model"
   ]
  },
  {
   "cell_type": "code",
   "execution_count": 20,
   "id": "6e9a284f",
   "metadata": {},
   "outputs": [],
   "source": [
    "import tensorflow as tf\n",
    "from tensorflow import keras\n",
    "from tensorflow.keras.models import Sequential\n",
    "from tensorflow.keras.layers import Dense,Dropout\n",
    "\n",
    "model = Sequential()\n",
    "\n",
    "model.add(Dense(500, activation='relu'))\n",
    "model.add(Dense(100, activation='relu'))\n",
    "model.add(Dropout(0.2))\n",
    "model.add(Dense(units=736, activation='softmax'))\n",
    "model.compile(loss='binary_crossentropy', optimizer='adam')"
   ]
  },
  {
   "cell_type": "code",
   "execution_count": 21,
   "id": "14de66bf",
   "metadata": {},
   "outputs": [],
   "source": [
    "early_stopping_callback = keras.callbacks.EarlyStopping(\n",
    "    monitor='val_loss',\n",
    "    patience=3,\n",
    "    restore_best_weights=True\n",
    ")"
   ]
  },
  {
   "cell_type": "code",
   "execution_count": 22,
   "id": "923713a1",
   "metadata": {},
   "outputs": [
    {
     "name": "stdout",
     "output_type": "stream",
     "text": [
      "Epoch 1/100\n",
      "49/49 [==============================] - 1s 14ms/step - loss: 0.3927 - val_loss: 0.0223\n",
      "Epoch 2/100\n",
      "49/49 [==============================] - 1s 10ms/step - loss: 0.0202 - val_loss: 0.0189\n",
      "Epoch 3/100\n",
      "49/49 [==============================] - 1s 11ms/step - loss: 0.0187 - val_loss: 0.0184\n",
      "Epoch 4/100\n",
      "49/49 [==============================] - 1s 11ms/step - loss: 0.0185 - val_loss: 0.0183\n",
      "Epoch 5/100\n",
      "49/49 [==============================] - 1s 12ms/step - loss: 0.0184 - val_loss: 0.0183\n",
      "Epoch 6/100\n",
      "49/49 [==============================] - 1s 11ms/step - loss: 0.0184 - val_loss: 0.0182\n",
      "Epoch 7/100\n",
      "49/49 [==============================] - 1s 11ms/step - loss: 0.0183 - val_loss: 0.0182\n",
      "Epoch 8/100\n",
      "49/49 [==============================] - 1s 11ms/step - loss: 0.0183 - val_loss: 0.0182\n",
      "Epoch 9/100\n",
      "49/49 [==============================] - 1s 11ms/step - loss: 0.0183 - val_loss: 0.0182\n",
      "Epoch 10/100\n",
      "49/49 [==============================] - 1s 11ms/step - loss: 0.0183 - val_loss: 0.0182\n",
      "Epoch 11/100\n",
      "49/49 [==============================] - 1s 11ms/step - loss: 0.0183 - val_loss: 0.0182\n",
      "Epoch 12/100\n",
      "49/49 [==============================] - 1s 11ms/step - loss: 0.0183 - val_loss: 0.0182\n",
      "Epoch 13/100\n",
      "49/49 [==============================] - 1s 11ms/step - loss: 0.0182 - val_loss: 0.0182\n",
      "Epoch 14/100\n",
      "49/49 [==============================] - 1s 11ms/step - loss: 0.0182 - val_loss: 0.0182\n",
      "Epoch 15/100\n",
      "49/49 [==============================] - 1s 11ms/step - loss: 0.0182 - val_loss: 0.0181\n",
      "Epoch 16/100\n",
      "49/49 [==============================] - 1s 11ms/step - loss: 0.0182 - val_loss: 0.0181\n",
      "Epoch 17/100\n",
      "49/49 [==============================] - 1s 12ms/step - loss: 0.0181 - val_loss: 0.0180\n",
      "Epoch 18/100\n",
      "49/49 [==============================] - 1s 11ms/step - loss: 0.0180 - val_loss: 0.0179\n",
      "Epoch 19/100\n",
      "49/49 [==============================] - 1s 11ms/step - loss: 0.0179 - val_loss: 0.0178\n",
      "Epoch 20/100\n",
      "49/49 [==============================] - 1s 11ms/step - loss: 0.0177 - val_loss: 0.0176\n",
      "Epoch 21/100\n",
      "49/49 [==============================] - 1s 11ms/step - loss: 0.0176 - val_loss: 0.0175\n",
      "Epoch 22/100\n",
      "49/49 [==============================] - 1s 11ms/step - loss: 0.0175 - val_loss: 0.0173\n",
      "Epoch 23/100\n",
      "49/49 [==============================] - 1s 12ms/step - loss: 0.0174 - val_loss: 0.0172\n",
      "Epoch 24/100\n",
      "49/49 [==============================] - 1s 12ms/step - loss: 0.0173 - val_loss: 0.0172\n",
      "Epoch 25/100\n",
      "49/49 [==============================] - 1s 11ms/step - loss: 0.0172 - val_loss: 0.0171\n",
      "Epoch 26/100\n",
      "49/49 [==============================] - 1s 13ms/step - loss: 0.0172 - val_loss: 0.0170\n",
      "Epoch 27/100\n",
      "49/49 [==============================] - 1s 12ms/step - loss: 0.0171 - val_loss: 0.0169\n",
      "Epoch 28/100\n",
      "49/49 [==============================] - 1s 12ms/step - loss: 0.0170 - val_loss: 0.0168\n",
      "Epoch 29/100\n",
      "49/49 [==============================] - 1s 11ms/step - loss: 0.0169 - val_loss: 0.0167\n",
      "Epoch 30/100\n",
      "49/49 [==============================] - 1s 11ms/step - loss: 0.0168 - val_loss: 0.0166\n",
      "Epoch 31/100\n",
      "49/49 [==============================] - 1s 11ms/step - loss: 0.0167 - val_loss: 0.0165\n",
      "Epoch 32/100\n",
      "49/49 [==============================] - 1s 11ms/step - loss: 0.0165 - val_loss: 0.0163\n",
      "Epoch 33/100\n",
      "49/49 [==============================] - 1s 11ms/step - loss: 0.0163 - val_loss: 0.0162\n",
      "Epoch 34/100\n",
      "49/49 [==============================] - 1s 12ms/step - loss: 0.0162 - val_loss: 0.0160\n",
      "Epoch 35/100\n",
      "49/49 [==============================] - 1s 11ms/step - loss: 0.0160 - val_loss: 0.0159\n",
      "Epoch 36/100\n",
      "49/49 [==============================] - 1s 11ms/step - loss: 0.0158 - val_loss: 0.0157\n",
      "Epoch 37/100\n",
      "49/49 [==============================] - 1s 11ms/step - loss: 0.0157 - val_loss: 0.0155\n",
      "Epoch 38/100\n",
      "49/49 [==============================] - 1s 11ms/step - loss: 0.0155 - val_loss: 0.0154\n",
      "Epoch 39/100\n",
      "49/49 [==============================] - 1s 11ms/step - loss: 0.0153 - val_loss: 0.0152\n",
      "Epoch 40/100\n",
      "49/49 [==============================] - 1s 12ms/step - loss: 0.0151 - val_loss: 0.0150\n",
      "Epoch 41/100\n",
      "49/49 [==============================] - 1s 11ms/step - loss: 0.0149 - val_loss: 0.0149\n",
      "Epoch 42/100\n",
      "49/49 [==============================] - 1s 12ms/step - loss: 0.0147 - val_loss: 0.0147\n",
      "Epoch 43/100\n",
      "49/49 [==============================] - 1s 11ms/step - loss: 0.0145 - val_loss: 0.0145\n",
      "Epoch 44/100\n",
      "49/49 [==============================] - 1s 11ms/step - loss: 0.0143 - val_loss: 0.0144\n",
      "Epoch 45/100\n",
      "49/49 [==============================] - 1s 12ms/step - loss: 0.0142 - val_loss: 0.0142\n",
      "Epoch 46/100\n",
      "49/49 [==============================] - 1s 12ms/step - loss: 0.0140 - val_loss: 0.0141\n",
      "Epoch 47/100\n",
      "49/49 [==============================] - 1s 11ms/step - loss: 0.0138 - val_loss: 0.0139\n",
      "Epoch 48/100\n",
      "49/49 [==============================] - 1s 11ms/step - loss: 0.0136 - val_loss: 0.0138\n",
      "Epoch 49/100\n",
      "49/49 [==============================] - 1s 11ms/step - loss: 0.0135 - val_loss: 0.0137\n",
      "Epoch 50/100\n",
      "49/49 [==============================] - 1s 11ms/step - loss: 0.0133 - val_loss: 0.0136\n",
      "Epoch 51/100\n",
      "49/49 [==============================] - 1s 11ms/step - loss: 0.0131 - val_loss: 0.0135\n",
      "Epoch 52/100\n",
      "49/49 [==============================] - 1s 12ms/step - loss: 0.0130 - val_loss: 0.0133\n",
      "Epoch 53/100\n",
      "49/49 [==============================] - 1s 11ms/step - loss: 0.0128 - val_loss: 0.0132\n",
      "Epoch 54/100\n",
      "49/49 [==============================] - 1s 11ms/step - loss: 0.0126 - val_loss: 0.0132\n",
      "Epoch 55/100\n",
      "49/49 [==============================] - 1s 11ms/step - loss: 0.0125 - val_loss: 0.0130\n",
      "Epoch 56/100\n",
      "49/49 [==============================] - 1s 11ms/step - loss: 0.0124 - val_loss: 0.0130\n",
      "Epoch 57/100\n",
      "49/49 [==============================] - 1s 12ms/step - loss: 0.0122 - val_loss: 0.0129\n",
      "Epoch 58/100\n",
      "49/49 [==============================] - 1s 11ms/step - loss: 0.0121 - val_loss: 0.0128\n",
      "Epoch 59/100\n",
      "49/49 [==============================] - 1s 11ms/step - loss: 0.0120 - val_loss: 0.0128\n",
      "Epoch 60/100\n",
      "49/49 [==============================] - 1s 12ms/step - loss: 0.0119 - val_loss: 0.0127\n",
      "Epoch 61/100\n",
      "49/49 [==============================] - 1s 11ms/step - loss: 0.0118 - val_loss: 0.0126\n",
      "Epoch 62/100\n",
      "49/49 [==============================] - 1s 11ms/step - loss: 0.0116 - val_loss: 0.0125\n",
      "Epoch 63/100\n",
      "49/49 [==============================] - 1s 12ms/step - loss: 0.0116 - val_loss: 0.0125\n",
      "Epoch 64/100\n",
      "49/49 [==============================] - 1s 11ms/step - loss: 0.0114 - val_loss: 0.0125\n",
      "Epoch 65/100\n",
      "49/49 [==============================] - 1s 11ms/step - loss: 0.0113 - val_loss: 0.0124\n",
      "Epoch 66/100\n",
      "49/49 [==============================] - 1s 11ms/step - loss: 0.0113 - val_loss: 0.0124\n",
      "Epoch 67/100\n",
      "49/49 [==============================] - 1s 11ms/step - loss: 0.0111 - val_loss: 0.0123\n",
      "Epoch 68/100\n",
      "49/49 [==============================] - 1s 11ms/step - loss: 0.0111 - val_loss: 0.0123\n",
      "Epoch 69/100\n",
      "49/49 [==============================] - 1s 12ms/step - loss: 0.0110 - val_loss: 0.0123\n",
      "Epoch 70/100\n",
      "49/49 [==============================] - 1s 11ms/step - loss: 0.0109 - val_loss: 0.0122\n",
      "Epoch 71/100\n",
      "49/49 [==============================] - 1s 12ms/step - loss: 0.0108 - val_loss: 0.0122\n",
      "Epoch 72/100\n",
      "49/49 [==============================] - 1s 11ms/step - loss: 0.0107 - val_loss: 0.0121\n",
      "Epoch 73/100\n",
      "49/49 [==============================] - 1s 12ms/step - loss: 0.0106 - val_loss: 0.0121\n",
      "Epoch 74/100\n",
      "49/49 [==============================] - 1s 11ms/step - loss: 0.0106 - val_loss: 0.0121\n",
      "Epoch 75/100\n",
      "49/49 [==============================] - 1s 12ms/step - loss: 0.0105 - val_loss: 0.0121\n",
      "Epoch 76/100\n",
      "49/49 [==============================] - 1s 11ms/step - loss: 0.0104 - val_loss: 0.0121\n",
      "Epoch 77/100\n",
      "49/49 [==============================] - 1s 11ms/step - loss: 0.0103 - val_loss: 0.0121\n",
      "Epoch 78/100\n",
      "49/49 [==============================] - 1s 11ms/step - loss: 0.0102 - val_loss: 0.0120\n",
      "Epoch 79/100\n",
      "49/49 [==============================] - 1s 11ms/step - loss: 0.0102 - val_loss: 0.0120\n",
      "Epoch 80/100\n",
      "49/49 [==============================] - 1s 12ms/step - loss: 0.0101 - val_loss: 0.0120\n",
      "Epoch 81/100\n",
      "49/49 [==============================] - 1s 11ms/step - loss: 0.0100 - val_loss: 0.0120\n",
      "Epoch 82/100\n"
     ]
    },
    {
     "name": "stdout",
     "output_type": "stream",
     "text": [
      "49/49 [==============================] - 1s 11ms/step - loss: 0.0100 - val_loss: 0.0120\n",
      "Epoch 83/100\n",
      "49/49 [==============================] - 1s 11ms/step - loss: 0.0099 - val_loss: 0.0120\n",
      "Epoch 84/100\n",
      "49/49 [==============================] - 1s 11ms/step - loss: 0.0098 - val_loss: 0.0120\n",
      "Epoch 85/100\n",
      "49/49 [==============================] - 1s 11ms/step - loss: 0.0097 - val_loss: 0.0120\n",
      "Epoch 86/100\n",
      "49/49 [==============================] - 1s 12ms/step - loss: 0.0097 - val_loss: 0.0120\n"
     ]
    }
   ],
   "source": [
    "history = model.fit(x=sent_train,y=label_train,epochs=100,batch_size=256,validation_data=(sent_test,label_test), callbacks=[early_stopping_callback])"
   ]
  },
  {
   "cell_type": "code",
   "execution_count": 23,
   "id": "289bb3cc",
   "metadata": {},
   "outputs": [
    {
     "name": "stdout",
     "output_type": "stream",
     "text": [
      "INFO:tensorflow:Assets written to: my_model\\assets\n"
     ]
    }
   ],
   "source": [
    "from tensorflow.keras.models import load_model\n",
    "\n",
    "model.save(\"my_model\")"
   ]
  },
  {
   "cell_type": "code",
   "execution_count": 24,
   "id": "892b38fe",
   "metadata": {},
   "outputs": [
    {
     "name": "stdout",
     "output_type": "stream",
     "text": [
      "97/97 [==============================] - 0s 2ms/step\n"
     ]
    }
   ],
   "source": [
    "label_pred = model.predict(sent_test)"
   ]
  },
  {
   "cell_type": "code",
   "execution_count": 25,
   "id": "ce57b248",
   "metadata": {},
   "outputs": [
    {
     "name": "stdout",
     "output_type": "stream",
     "text": [
      "62.34988640051931\n"
     ]
    }
   ],
   "source": [
    "correct_=0\n",
    "for i in range(len(label_pred)):\n",
    "    k=np.argmax(label_pred[i])\n",
    "    if label_test[i][k]==1:\n",
    "        correct_+=1\n",
    "print(100*correct_/len(label_pred))"
   ]
  }
 ],
 "metadata": {
  "kernelspec": {
   "display_name": "Python 3",
   "language": "python",
   "name": "python3"
  },
  "language_info": {
   "codemirror_mode": {
    "name": "ipython",
    "version": 3
   },
   "file_extension": ".py",
   "mimetype": "text/x-python",
   "name": "python",
   "nbconvert_exporter": "python",
   "pygments_lexer": "ipython3",
   "version": "3.8.8"
  }
 },
 "nbformat": 4,
 "nbformat_minor": 5
}
